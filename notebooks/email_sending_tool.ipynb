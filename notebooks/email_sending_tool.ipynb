{
 "cells": [
  {
   "cell_type": "code",
   "execution_count": 1,
   "metadata": {},
   "outputs": [],
   "source": [
    "import getpass\n",
    "import os\n",
    "\n",
    "\n",
    "def _set_if_undefined(var: str):\n",
    "    if not os.environ.get(var):\n",
    "        os.environ[var] = getpass.getpass(f\"Please provide your {var}\")\n",
    "\n",
    "\n",
    "_set_if_undefined(\"OPENAI_API_KEY\")\n",
    "_set_if_undefined(\"LANGCHAIN_API_KEY\")\n",
    "_set_if_undefined(\"TAVILY_API_KEY\")\n",
    "\n",
    "# Optional, add tracing in LangSmith\n",
    "os.environ[\"LANGCHAIN_TRACING_V2\"] = \"true\"\n",
    "os.environ[\"LANGCHAIN_PROJECT\"] = \"Email Sending Tool\""
   ]
  },
  {
   "cell_type": "markdown",
   "metadata": {},
   "source": [
    "## Tools"
   ]
  },
  {
   "cell_type": "code",
   "execution_count": 7,
   "metadata": {},
   "outputs": [],
   "source": [
    "from langchain_core.pydantic_v1 import BaseModel, Field\n",
    "from langchain_core.tools import BaseTool\n",
    "from typing import Annotated, Type, List\n",
    "from pydantic import EmailStr\n",
    "import resend\n",
    "\n",
    "class MailArgs(BaseModel):\n",
    "    \"\"\"\n",
    "    Input for the email sender tool\n",
    "    \"\"\"\n",
    "    subject: str = Field(..., description=\"The subject of the email\")\n",
    "    content: str = Field(..., description=\"The content of the email in HTML format\")\n",
    "    recipients: List[str] = Field(..., description=\"The list of recipients\")\n",
    "\n",
    "    \n",
    "class EmailSender(BaseTool):\n",
    "    \"\"\"\n",
    "    A tool for sending emails to a list of recipients.\n",
    "    \"\"\"\n",
    "    name: str = \"EmailSender\"\n",
    "    description: str = (\n",
    "        \"A tool for sending emails to a list of recipients.\"\n",
    "        )\n",
    "    args_schema: Type[BaseModel] = MailArgs\n",
    "\n",
    "    def _run(\n",
    "            self,\n",
    "            subject: str,\n",
    "            content: str,\n",
    "            recipients: List[str]\n",
    "            ):\n",
    "        \"\"\"\n",
    "        Use the tool\n",
    "        \"\"\"\n",
    "        try:\n",
    "            resend.api_key = \"re_DMzZbNtC_EALxDZQYCGM7f46wnegaRdbV\"\n",
    "            params: resend.Emails.SendParams = {\n",
    "                \"from\": \"Acme <onboarding@resend.dev>\",\n",
    "                \"to\": recipients,\n",
    "                \"subject\": subject,\n",
    "                \"html\": content,\n",
    "            }\n",
    "            resend.Emails.send(params)\n",
    "            return \"Email sent successfully\"\n",
    "        except Exception as e:\n",
    "            return repr(e)\n",
    "        \n",
    "        \n",
    "\n",
    "\n",
    "email_sender_tool = EmailSender()\n",
    "\n"
   ]
  },
  {
   "cell_type": "code",
   "execution_count": 8,
   "metadata": {},
   "outputs": [
    {
     "name": "stdout",
     "output_type": "stream",
     "text": [
      "Email sent successfully\n"
     ]
    }
   ],
   "source": [
    "# Example usage of the email_sender_tool\n",
    "result = email_sender_tool.run({\n",
    "    \"subject\": \"Test Email\",\n",
    "    \"content\": \"<h1>Hello!</h1><p>This is a test email sent using the EmailSender tool.</p>\",\n",
    "    \"recipients\": [\"ibrahim.aka.ajax@gmail.com\"]\n",
    "})\n",
    "\n",
    "print(result)"
   ]
  },
  {
   "cell_type": "code",
   "execution_count": null,
   "metadata": {},
   "outputs": [],
   "source": []
  }
 ],
 "metadata": {
  "kernelspec": {
   "display_name": ".venv",
   "language": "python",
   "name": "python3"
  },
  "language_info": {
   "codemirror_mode": {
    "name": "ipython",
    "version": 3
   },
   "file_extension": ".py",
   "mimetype": "text/x-python",
   "name": "python",
   "nbconvert_exporter": "python",
   "pygments_lexer": "ipython3",
   "version": "3.12.3"
  }
 },
 "nbformat": 4,
 "nbformat_minor": 2
}
